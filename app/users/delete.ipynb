{
 "cells": [
  {
   "cell_type": "code",
   "execution_count": 5,
   "metadata": {},
   "outputs": [
    {
     "data": {
      "text/plain": [
       "'$2b$12$3k6iecEHibhK7VmfzpdQsu98qkgpf9xF5c.oYaCv5gQ8tPsqaFwWC'"
      ]
     },
     "execution_count": 5,
     "metadata": {},
     "output_type": "execute_result"
    }
   ],
   "source": [
    "from passlib.context import  CryptContext\n",
    "from jose import  jwt\n",
    "\n",
    "\n",
    "pwd_context = CryptContext(schemes=['bcrypt'], deprecated = 'auto')\n",
    "\n",
    "def get_password_hash(password: str) -> str:\n",
    "    return pwd_context.hash(password)\n",
    "\n",
    "def verify_password(plain_password, hashed_password) -> bool:\n",
    "    return pwd_context.verify(plain_password, hashed_password)\n",
    "\n",
    "get_password_hash('pr0gram1ist')\n"
   ]
  },
  {
   "cell_type": "code",
   "execution_count": 9,
   "metadata": {},
   "outputs": [
    {
     "data": {
      "text/plain": [
       "True"
      ]
     },
     "execution_count": 9,
     "metadata": {},
     "output_type": "execute_result"
    }
   ],
   "source": [
    "hashed_password = '$2b$12$3k6iecEHibhK7VmfzpdQsu98qkgpf9xF5c.oYaCv5gQ8tPsqaFwWC'\n",
    "verify_password('pr0gram1ist',hashed_password)\n"
   ]
  },
  {
   "cell_type": "code",
   "execution_count": 21,
   "metadata": {},
   "outputs": [],
   "source": [
    "from jose import jwt\n",
    "from datetime import datetime, timedelta\n",
    "from datetime import date\n",
    "\n",
    "def create_access_token(data: dict) -> str:\n",
    "    to_encode = date.copy()\n",
    "    expire = datetime.utcnow() + timedelta(minutes=30)\n",
    "    to_endcode.update({'exp':expire})\n",
    "    encoded_jwt = jwt.encode(\n",
    "        to_encode,'eegetjyjdtgdjugk','HS256'\n",
    "    )\n",
    "    return encoded_jwt\n"
   ]
  },
  {
   "cell_type": "code",
   "execution_count": null,
   "metadata": {},
   "outputs": [],
   "source": [
    " create_access_token({'user':'artem'})"
   ]
  },
  {
   "cell_type": "markdown",
   "metadata": {},
   "source": [
    "# pip install passlib , python-jose "
   ]
  }
 ],
 "metadata": {
  "kernelspec": {
   "display_name": "venv",
   "language": "python",
   "name": "python3"
  },
  "language_info": {
   "codemirror_mode": {
    "name": "ipython",
    "version": 3
   },
   "file_extension": ".py",
   "mimetype": "text/x-python",
   "name": "python",
   "nbconvert_exporter": "python",
   "pygments_lexer": "ipython3",
   "version": "3.8.10"
  }
 },
 "nbformat": 4,
 "nbformat_minor": 2
}
